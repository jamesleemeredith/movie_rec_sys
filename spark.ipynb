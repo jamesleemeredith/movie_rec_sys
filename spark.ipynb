{
 "cells": [
  {
   "attachments": {},
   "cell_type": "markdown",
   "id": "a47d6a9f",
   "metadata": {},
   "source": [
    "# Spark ALS Implementation\n",
    "Will Bennett & James Meredith\n",
    "\n",
    "Inspired by [example spark docs](https://spark.apache.org/docs/latest/ml-collaborative-filtering.html)\n",
    "\n",
    "We've taken the basic example and added pipelining and gridsearch."
   ]
  },
  {
   "cell_type": "code",
   "execution_count": 8,
   "id": "18eba62a",
   "metadata": {},
   "outputs": [
    {
     "name": "stdout",
     "output_type": "stream",
     "text": [
      "Welcome to\n",
      "      ____              __\n",
      "     / __/__  ___ _____/ /__\n",
      "    _\\ \\/ _ \\/ _ `/ __/  '_/\n",
      "   /__ / .__/\\_,_/_/ /_/\\_\\   version 3.4.0\n",
      "      /_/\n",
      "\n",
      "Using Python version 3.8.5 (default, Sep  4 2020 02:22:02)\n",
      "Spark context Web UI available at http://192.168.4.22:4040\n",
      "Spark context available as 'sc' (master = local[*], app id = local-1687365561172).\n",
      "SparkSession available as 'spark'.\n"
     ]
    }
   ],
   "source": [
    "import os\n",
    "exec(open(os.path.join(os.environ[\"SPARK_HOME\"], 'python/pyspark/shell.py')).read())"
   ]
  },
  {
   "cell_type": "code",
   "execution_count": 9,
   "id": "a6b508cb",
   "metadata": {},
   "outputs": [],
   "source": [
    "# Imports\n",
    "from pyspark.sql import SparkSession\n",
    "from pyspark.ml import Pipeline\n",
    "from pyspark.ml.evaluation import RegressionEvaluator\n",
    "from pyspark.ml.tuning import CrossValidator, ParamGridBuilder\n",
    "from pyspark.ml.recommendation import ALS"
   ]
  },
  {
   "attachments": {},
   "cell_type": "markdown",
   "id": "526bcbe6",
   "metadata": {},
   "source": [
    "We start by creating a spark session"
   ]
  },
  {
   "cell_type": "code",
   "execution_count": 10,
   "id": "9178b10b",
   "metadata": {},
   "outputs": [],
   "source": [
    "spark = SparkSession\\\n",
    "    .builder\\\n",
    "    .appName(\"ALSExample\")\\\n",
    "    .getOrCreate()\n",
    "\n",
    "ratings = spark.read.options(header=True, inferSchema=True).csv(\"ml-latest-small/ratings.csv\")\n",
    "(training, test) = ratings.randomSplit([0.8, 0.2])"
   ]
  },
  {
   "attachments": {},
   "cell_type": "markdown",
   "id": "e4044908",
   "metadata": {},
   "source": [
    "Next we will create a base model using the parameters in the example"
   ]
  },
  {
   "cell_type": "code",
   "execution_count": 11,
   "id": "89976aac",
   "metadata": {},
   "outputs": [
    {
     "name": "stdout",
     "output_type": "stream",
     "text": [
      "Root-mean-square error = 1.1002666310372953\n"
     ]
    }
   ],
   "source": [
    "als = ALS(maxIter=5, regParam=0.01, userCol=\"userId\", itemCol=\"movieId\", ratingCol=\"rating\",\n",
    "          coldStartStrategy=\"drop\")\n",
    "model = als.fit(training)\n",
    "\n",
    "predictions = model.transform(test)\n",
    "evaluator = RegressionEvaluator(metricName=\"rmse\", labelCol=\"rating\",\n",
    "                                predictionCol=\"prediction\")\n",
    "rmse = evaluator.evaluate(predictions)\n",
    "print(\"Root-mean-square error = \" + str(rmse))"
   ]
  },
  {
   "attachments": {},
   "cell_type": "markdown",
   "id": "889d0d9f",
   "metadata": {},
   "source": [
    "That is fairly high, for a ranking system of 1-5 it means our system is off by an average of over 1\n",
    "\n",
    "Next let's set up a pipeline and gridsearch to improve our model.\n",
    "\n",
    "We will gridsearch `maxIter`, `rank`, and `alpha`"
   ]
  },
  {
   "cell_type": "code",
   "execution_count": 12,
   "id": "171fb64b",
   "metadata": {},
   "outputs": [
    {
     "name": "stdout",
     "output_type": "stream",
     "text": [
      "Root-mean-square error = 0.8708752579886659\n"
     ]
    }
   ],
   "source": [
    "# Set up Alternating Least Squares\n",
    "als = ALS(maxIter=20, \n",
    "          userCol=\"userId\", \n",
    "          itemCol=\"movieId\", \n",
    "          rank=5,\n",
    "          ratingCol=\"rating\",\n",
    "          coldStartStrategy=\"drop\",\n",
    "          alpha = 1.2,\n",
    "          seed=42)\n",
    "\n",
    "# Create Pipeline\n",
    "pipeline = Pipeline(stages=[als])\n",
    "\n",
    "# Create grid for gridsearch\n",
    "paramGrid = ParamGridBuilder() \\\n",
    "    .addGrid(als.maxIter, [5, 10, 20]) \\\n",
    "    .addGrid(als.rank, [5, 10, 15]) \\\n",
    "    .addGrid(als.alpha, [0.8, 1, 1.2]) \\\n",
    "    .build()\n",
    "\n",
    "# Create our evaluator\n",
    "evaluator = RegressionEvaluator(metricName=\"rmse\", labelCol=\"rating\",\n",
    "                                predictionCol=\"prediction\")\n",
    "\n",
    "# Set up our cross validation\n",
    "crossval = CrossValidator(estimator=pipeline,\n",
    "                          estimatorParamMaps=paramGrid,\n",
    "                          evaluator=evaluator,\n",
    "                          numFolds=5)\n",
    "\n",
    "# Cross validate our model on training data\n",
    "cvModel = crossval.fit(training)\n",
    "\n",
    "# Generate our predictions for test set\n",
    "predictions = cvModel.transform(test)\n",
    "\n",
    "# Calculate RMSE for test set\n",
    "rmse = evaluator.evaluate(predictions)\n",
    "print(\"Root-mean-square error = \" + str(rmse))"
   ]
  },
  {
   "attachments": {},
   "cell_type": "markdown",
   "id": "08d9ecdb",
   "metadata": {},
   "source": [
    "That's definitely better, let's see what the best values were"
   ]
  },
  {
   "cell_type": "code",
   "execution_count": 17,
   "id": "0d5d25d1",
   "metadata": {},
   "outputs": [
    {
     "name": "stdout",
     "output_type": "stream",
     "text": [
      "Best Max Iter: 20\n",
      "Best rank: 5\n",
      "Best alpha: 0.8\n"
     ]
    }
   ],
   "source": [
    "best_maxiter = cvModel.bestModel.stages[-1]._java_obj.parent().getMaxIter()\n",
    "best_rank = cvModel.bestModel.stages[-1]._java_obj.parent().getRank()\n",
    "best_alpha = cvModel.bestModel.stages[-1]._java_obj.parent().getAlpha()\n",
    "\n",
    "print(f'Best Max Iter: {best_maxiter}')\n",
    "print(f'Best rank: {best_rank}')\n",
    "print(f'Best alpha: {best_alpha}')"
   ]
  },
  {
   "attachments": {},
   "cell_type": "markdown",
   "id": "b2dd4e94",
   "metadata": {},
   "source": [
    "Great! Now let's create a new model based on those parameters"
   ]
  },
  {
   "cell_type": "code",
   "execution_count": 20,
   "id": "f7b3a16d",
   "metadata": {},
   "outputs": [
    {
     "name": "stdout",
     "output_type": "stream",
     "text": [
      "Root-mean-square error = 0.8718633113662384\n"
     ]
    }
   ],
   "source": [
    "# Create a model with the best parameters\n",
    "als = ALS(maxIter=20, \n",
    "          userCol=\"userId\", \n",
    "          itemCol=\"movieId\", \n",
    "          ratingCol=\"rating\",\n",
    "          coldStartStrategy=\"drop\",\n",
    "          rank=5,\n",
    "          alpha=0.8\n",
    "         )\n",
    "best_model = als.fit(training)\n",
    "\n",
    "predictions = best_model.transform(test)\n",
    "evaluator = RegressionEvaluator(metricName=\"rmse\", labelCol=\"rating\",\n",
    "                                predictionCol=\"prediction\")\n",
    "rmse = evaluator.evaluate(predictions)\n",
    "print(\"Root-mean-square error = \" + str(rmse))"
   ]
  },
  {
   "attachments": {},
   "cell_type": "markdown",
   "id": "45ce6d46",
   "metadata": {},
   "source": [
    "We can take that model and train it on all our data"
   ]
  },
  {
   "cell_type": "code",
   "execution_count": 21,
   "id": "e165b3bb",
   "metadata": {},
   "outputs": [],
   "source": [
    "# Train our model on all data\n",
    "best_model = als.fit(ratings)"
   ]
  },
  {
   "attachments": {},
   "cell_type": "markdown",
   "id": "aa075dc5",
   "metadata": {},
   "source": [
    "Now that our model is ready to go let's generate some recommendations"
   ]
  },
  {
   "cell_type": "code",
   "execution_count": 22,
   "id": "36efcf03",
   "metadata": {},
   "outputs": [
    {
     "name": "stdout",
     "output_type": "stream",
     "text": [
      "+------+--------------------+\n",
      "|userId|     recommendations|\n",
      "+------+--------------------+\n",
      "|     1|[{3379, 6.0570064...|\n",
      "|     2|[{67618, 4.982239...|\n",
      "|     3|[{74754, 6.236243...|\n",
      "|     4|[{5222, 5.759787}...|\n",
      "|     5|[{132333, 5.08985...|\n",
      "|     6|[{26171, 6.024038...|\n",
      "|     7|[{68945, 5.338016...|\n",
      "|     8|[{141718, 5.18157...|\n",
      "|     9|[{26171, 5.464975...|\n",
      "|    10|[{32892, 5.774617...|\n",
      "|    11|[{3925, 5.6317244...|\n",
      "|    12|[{26171, 6.516180...|\n",
      "|    13|[{60943, 5.597091...|\n",
      "|    14|[{141718, 5.28826...|\n",
      "|    15|[{141718, 4.92957...|\n",
      "|    16|[{3379, 4.783925}...|\n",
      "|    17|[{3379, 5.426992}...|\n",
      "|    18|[{3379, 5.149359}...|\n",
      "|    19|[{3379, 4.182879}...|\n",
      "|    20|[{26171, 5.698621...|\n",
      "+------+--------------------+\n",
      "only showing top 20 rows\n",
      "\n",
      "+-------+--------------------+\n",
      "|movieId|     recommendations|\n",
      "+-------+--------------------+\n",
      "|      1|[{53, 5.1614575},...|\n",
      "|     12|[{537, 4.3878174}...|\n",
      "|     13|[{175, 4.162911},...|\n",
      "|     22|[{53, 4.817724}, ...|\n",
      "|     26|[{53, 4.733883}, ...|\n",
      "|     27|[{543, 5.0920362}...|\n",
      "|     28|[{53, 6.3305492},...|\n",
      "|     31|[{543, 4.790196},...|\n",
      "|     34|[{360, 5.2355804}...|\n",
      "|     44|[{43, 4.258293}, ...|\n",
      "|     47|[{53, 5.7381506},...|\n",
      "|     52|[{258, 4.4486537}...|\n",
      "|     53|[{310, 5.4170423}...|\n",
      "|     65|[{543, 3.957274},...|\n",
      "|     76|[{360, 5.0562997}...|\n",
      "|     78|[{360, 4.4141254}...|\n",
      "|     81|[{360, 4.2617383}...|\n",
      "|     85|[{295, 5.2183}, {...|\n",
      "|     93|[{543, 4.769628},...|\n",
      "|    101|[{296, 4.7689757}...|\n",
      "+-------+--------------------+\n",
      "only showing top 20 rows\n",
      "\n",
      "+------+--------------------+\n",
      "|userId|     recommendations|\n",
      "+------+--------------------+\n",
      "|   471|[{6818, 4.9125295...|\n",
      "|   463|[{60943, 5.278916...|\n",
      "|   148|[{3925, 4.886901}...|\n",
      "+------+--------------------+\n",
      "\n",
      "+-------+--------------------+\n",
      "|movieId|     recommendations|\n",
      "+-------+--------------------+\n",
      "|   1580|[{53, 5.1343584},...|\n",
      "|   3175|[{53, 5.0666504},...|\n",
      "|   2366|[{258, 4.5547996}...|\n",
      "+-------+--------------------+\n",
      "\n"
     ]
    }
   ],
   "source": [
    "# Generate top 10 movie recommendations for each user\n",
    "userRecs = best_model.recommendForAllUsers(10)\n",
    "# Generate top 10 user recommendations for each movie\n",
    "movieRecs = best_model.recommendForAllItems(10)\n",
    "\n",
    "# Generate top 10 movie recommendations for a specified set of users\n",
    "users = ratings.select(als.getUserCol()).distinct().limit(3)\n",
    "userSubsetRecs = best_model.recommendForUserSubset(users, 10)\n",
    "# Generate top 10 user recommendations for a specified set of movies\n",
    "movies = ratings.select(als.getItemCol()).distinct().limit(3)\n",
    "movieSubSetRecs = best_model.recommendForItemSubset(movies, 10)\n",
    "# $example off$\n",
    "userRecs.show()\n",
    "movieRecs.show()\n",
    "userSubsetRecs.show()\n",
    "movieSubSetRecs.show()"
   ]
  },
  {
   "cell_type": "code",
   "execution_count": 23,
   "id": "0f72e034",
   "metadata": {},
   "outputs": [],
   "source": [
    "spark.stop()"
   ]
  },
  {
   "attachments": {},
   "cell_type": "markdown",
   "id": "c79bd715",
   "metadata": {},
   "source": [
    "## Conclusion\n",
    "\n",
    "ALS using Spark is an incredibly efficient way to setup a recommendation system at scale. \n",
    "It includes helpful functions to generate recommendations including `recommendForAllUsers` and `recommendForAllItems`.\n",
    "The output can then be easily taken and used in a web application.\n",
    "\n",
    "While the RMSE of 0.872 is not as good as SVD using surprise the ease of implementation and ability to scale make up for it."
   ]
  }
 ],
 "metadata": {
  "kernelspec": {
   "display_name": "Python (learn-env)",
   "language": "python",
   "name": "learn-env"
  },
  "language_info": {
   "codemirror_mode": {
    "name": "ipython",
    "version": 3
   },
   "file_extension": ".py",
   "mimetype": "text/x-python",
   "name": "python",
   "nbconvert_exporter": "python",
   "pygments_lexer": "ipython3",
   "version": "3.8.5"
  }
 },
 "nbformat": 4,
 "nbformat_minor": 5
}
